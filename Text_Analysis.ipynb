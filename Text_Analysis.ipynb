{
 "cells": [
  {
   "cell_type": "code",
   "execution_count": null,
   "id": "47c7ab28",
   "metadata": {},
   "outputs": [],
   "source": [
    "import pandas as pd\n",
    "import requests\n",
    "from bs4 import BeautifulSoup"
   ]
  },
  {
   "cell_type": "markdown",
   "id": "97fdbeff",
   "metadata": {},
   "source": [
    "# Change url link according to your need"
   ]
  },
  {
   "cell_type": "code",
   "execution_count": null,
   "id": "2fb0d6d5",
   "metadata": {},
   "outputs": [],
   "source": [
    "url = \"https://insights.blackcoffer.com/how-machine-learning-will-affect-your-business/\""
   ]
  },
  {
   "cell_type": "code",
   "execution_count": null,
   "id": "a2e18d28",
   "metadata": {},
   "outputs": [],
   "source": [
    "page = requests.get(url)"
   ]
  },
  {
   "cell_type": "code",
   "execution_count": null,
   "id": "9589efed",
   "metadata": {},
   "outputs": [],
   "source": [
    "page"
   ]
  },
  {
   "cell_type": "code",
   "execution_count": null,
   "id": "ec3543ec",
   "metadata": {},
   "outputs": [],
   "source": [
    "BeautifulSoup(page.content, 'html.parser')"
   ]
  },
  {
   "cell_type": "code",
   "execution_count": null,
   "id": "6ddbaf21",
   "metadata": {},
   "outputs": [],
   "source": [
    "Soup = BeautifulSoup(page.content, 'html.parser')"
   ]
  },
  {
   "cell_type": "code",
   "execution_count": null,
   "id": "f67d4f29",
   "metadata": {},
   "outputs": [],
   "source": [
    "Soup"
   ]
  },
  {
   "cell_type": "code",
   "execution_count": null,
   "id": "ab3d8926",
   "metadata": {},
   "outputs": [],
   "source": [
    "head=Soup.findAll(attrs = {'class':'td-post-content tagdiv-type'})"
   ]
  },
  {
   "cell_type": "code",
   "execution_count": null,
   "id": "449cdada",
   "metadata": {
    "scrolled": true
   },
   "outputs": [],
   "source": [
    "head"
   ]
  },
  {
   "cell_type": "code",
   "execution_count": null,
   "id": "602203a9",
   "metadata": {},
   "outputs": [],
   "source": [
    "Heading = Soup.find('h1').text"
   ]
  },
  {
   "cell_type": "code",
   "execution_count": null,
   "id": "2500aff0",
   "metadata": {},
   "outputs": [],
   "source": [
    "Heading"
   ]
  },
  {
   "cell_type": "code",
   "execution_count": null,
   "id": "5531603d",
   "metadata": {
    "scrolled": true
   },
   "outputs": [],
   "source": [
    "BoldHeading = Soup.findAll('h3')\n",
    "BoldHeading"
   ]
  },
  {
   "cell_type": "code",
   "execution_count": null,
   "id": "428b11f4",
   "metadata": {},
   "outputs": [],
   "source": [
    "para = Soup.findAll('p')"
   ]
  },
  {
   "cell_type": "code",
   "execution_count": null,
   "id": "3efbcd6a",
   "metadata": {
    "scrolled": true
   },
   "outputs": [],
   "source": [
    "para"
   ]
  },
  {
   "cell_type": "code",
   "execution_count": null,
   "id": "3565fd55",
   "metadata": {
    "scrolled": true
   },
   "outputs": [],
   "source": [
    "SubHead = Soup.findAll('strong')\n",
    "SubHead"
   ]
  },
  {
   "cell_type": "code",
   "execution_count": null,
   "id": "3bbd599d",
   "metadata": {},
   "outputs": [],
   "source": [
    "Bullets = Soup.findAll('li')\n",
    "Bullets"
   ]
  },
  {
   "cell_type": "code",
   "execution_count": null,
   "id": "3ca5531f",
   "metadata": {},
   "outputs": [],
   "source": [
    "count =0\n",
    "for i in Bullets:\n",
    "    count+=1\n",
    "print(count)"
   ]
  },
  {
   "cell_type": "markdown",
   "id": "0243a55b",
   "metadata": {},
   "source": [
    "# Now use itteration according to your article line."
   ]
  },
  {
   "cell_type": "code",
   "execution_count": null,
   "id": "87efae36",
   "metadata": {},
   "outputs": [],
   "source": [
    "i=0\n",
    "while(i<1):\n",
    "    print(SubHead[i].text)\n",
    "    i+=1"
   ]
  },
  {
   "cell_type": "code",
   "execution_count": null,
   "id": "ed945036",
   "metadata": {},
   "outputs": [],
   "source": [
    "i=0\n",
    "while(i<1):\n",
    "    print((BoldHeading[i].text))\n",
    "    i+=1"
   ]
  },
  {
   "cell_type": "code",
   "execution_count": null,
   "id": "01a008fa",
   "metadata": {
    "scrolled": true
   },
   "outputs": [],
   "source": [
    "i=16\n",
    "while(i<19):\n",
    "    print(para[i].text)\n",
    "    i+=1"
   ]
  },
  {
   "cell_type": "code",
   "execution_count": null,
   "id": "ca9e3eb1",
   "metadata": {
    "scrolled": true
   },
   "outputs": [],
   "source": [
    "i=94\n",
    "while(i<101):\n",
    "    print(Bullets[i].text)\n",
    "    i+=1"
   ]
  },
  {
   "cell_type": "markdown",
   "id": "2ef09f71",
   "metadata": {},
   "source": [
    "# Insert heading first"
   ]
  },
  {
   "cell_type": "code",
   "execution_count": null,
   "id": "9af112ea",
   "metadata": {},
   "outputs": [],
   "source": [
    "nishant = \"\"\" \"\"\"\n",
    "nishant += Heading\n",
    "nishant += '\\n'"
   ]
  },
  {
   "cell_type": "markdown",
   "id": "03898657",
   "metadata": {},
   "source": [
    "# Put the same value of i in upcoming 2 cells to store in a variable "
   ]
  },
  {
   "cell_type": "code",
   "execution_count": null,
   "id": "1c78a814",
   "metadata": {},
   "outputs": [],
   "source": [
    "\n",
    "i=0\n",
    "while(i<1):\n",
    "    nishant += (SubHead[i].text)\n",
    "    nishant += '\\n'\n",
    "    i+=1"
   ]
  },
  {
   "cell_type": "code",
   "execution_count": null,
   "id": "acc1f985",
   "metadata": {},
   "outputs": [],
   "source": [
    "i=5\n",
    "while(i<6):\n",
    "    nishant += (BoldHeading[i].text)\n",
    "    nishant += '\\n'\n",
    "    i+=1"
   ]
  },
  {
   "cell_type": "code",
   "execution_count": null,
   "id": "9058e474",
   "metadata": {},
   "outputs": [],
   "source": [
    "i=16\n",
    "while(i<19):\n",
    "    nishant += (para[i].text)\n",
    "    nishant += '\\n'\n",
    "    i+=1\n",
    "    "
   ]
  },
  {
   "cell_type": "code",
   "execution_count": null,
   "id": "24e1b2a3",
   "metadata": {},
   "outputs": [],
   "source": [
    "i=94\n",
    "while(i<101):\n",
    "    nishant+= (Bullets[i].text)\n",
    "    nishant+= '\\n'\n",
    "    i+=1"
   ]
  },
  {
   "cell_type": "code",
   "execution_count": null,
   "id": "4a5a886d",
   "metadata": {
    "scrolled": true
   },
   "outputs": [],
   "source": [
    "print(nishant)"
   ]
  },
  {
   "cell_type": "code",
   "execution_count": null,
   "id": "6f90c898",
   "metadata": {},
   "outputs": [],
   "source": [
    "import numpy as np"
   ]
  },
  {
   "cell_type": "code",
   "execution_count": null,
   "id": "7ff14b45",
   "metadata": {},
   "outputs": [],
   "source": [
    "bad_chars = ['₹','$','[',']','&','%','~','@','!','~','*','(',')','=','?','\"','/','“','”','≈']"
   ]
  },
  {
   "cell_type": "code",
   "execution_count": null,
   "id": "94b8d142",
   "metadata": {},
   "outputs": [],
   "source": [
    "for i in bad_chars:\n",
    "    paras = paras.replace(i, '')"
   ]
  },
  {
   "cell_type": "markdown",
   "id": "575c493e",
   "metadata": {},
   "source": [
    "# Set File name according to your URL ID"
   ]
  },
  {
   "cell_type": "code",
   "execution_count": null,
   "id": "703b1b05",
   "metadata": {},
   "outputs": [],
   "source": [
    "file = open(\"URL_83.txt\", \"w\")"
   ]
  },
  {
   "cell_type": "code",
   "execution_count": null,
   "id": "fc67cf64",
   "metadata": {},
   "outputs": [],
   "source": [
    "file.writelines(nishant)"
   ]
  },
  {
   "cell_type": "code",
   "execution_count": null,
   "id": "08430032",
   "metadata": {},
   "outputs": [],
   "source": [
    "from vaderSentiment.vaderSentiment import SentimentIntensityAnalyzer\n",
    "sentimentAnalyser = SentimentIntensityAnalyzer()"
   ]
  },
  {
   "cell_type": "code",
   "execution_count": null,
   "id": "b87e337b",
   "metadata": {},
   "outputs": [],
   "source": [
    "sentimentAnalyser.polarity_scores(nishant)"
   ]
  },
  {
   "cell_type": "code",
   "execution_count": null,
   "id": "68482bd5",
   "metadata": {},
   "outputs": [],
   "source": [
    "Positive = 0.163"
   ]
  },
  {
   "cell_type": "code",
   "execution_count": null,
   "id": "265eadd3",
   "metadata": {},
   "outputs": [],
   "source": [
    "Negative = 0.185"
   ]
  },
  {
   "cell_type": "markdown",
   "id": "3d6dc492",
   "metadata": {},
   "source": [
    "# PolarityScore Calculation"
   ]
  },
  {
   "cell_type": "code",
   "execution_count": null,
   "id": "176606c4",
   "metadata": {},
   "outputs": [],
   "source": [
    "PolarityScore = (Positive - Negative)/ ((Positive + Negative) + 0.000001)"
   ]
  },
  {
   "cell_type": "code",
   "execution_count": null,
   "id": "0690d5c8",
   "metadata": {},
   "outputs": [],
   "source": [
    "PolarityScore"
   ]
  },
  {
   "cell_type": "code",
   "execution_count": null,
   "id": "e28ecb0e",
   "metadata": {},
   "outputs": [],
   "source": [
    "from textblob import TextBlob"
   ]
  },
  {
   "cell_type": "code",
   "execution_count": null,
   "id": "f316351e",
   "metadata": {},
   "outputs": [],
   "source": [
    "res = TextBlob(nishant)\n",
    "print(res.sentiment.polarity)"
   ]
  },
  {
   "cell_type": "markdown",
   "id": "ab51060a",
   "metadata": {},
   "source": [
    "# Average sentence length calculation"
   ]
  },
  {
   "cell_type": "code",
   "execution_count": null,
   "id": "a7931747",
   "metadata": {},
   "outputs": [],
   "source": [
    "sents = nishant.split('.')\n",
    "AverageSentenceLength  = sum(len(x.split()) for x in sents) / len(sents)"
   ]
  },
  {
   "cell_type": "code",
   "execution_count": null,
   "id": "6d602e0f",
   "metadata": {},
   "outputs": [],
   "source": [
    "print(AverageSentenceLength)"
   ]
  },
  {
   "cell_type": "code",
   "execution_count": null,
   "id": "b7c2479a",
   "metadata": {},
   "outputs": [],
   "source": [
    "number_of_words =  sum(len(x.split()) for x in sents)"
   ]
  },
  {
   "cell_type": "code",
   "execution_count": null,
   "id": "03ceb51a",
   "metadata": {},
   "outputs": [],
   "source": [
    "number_of_words"
   ]
  },
  {
   "cell_type": "code",
   "execution_count": null,
   "id": "bad06979",
   "metadata": {},
   "outputs": [],
   "source": [
    "len(sents)"
   ]
  },
  {
   "cell_type": "markdown",
   "id": "b4a2d5f9",
   "metadata": {},
   "source": [
    "# Percentage of complex word"
   ]
  },
  {
   "cell_type": "code",
   "execution_count": null,
   "id": "41ebeaaa",
   "metadata": {},
   "outputs": [],
   "source": [
    "count = 0\n",
    "\n",
    "for myword in nishant:\n",
    "    d = {}.fromkeys('aeiou',0)\n",
    "    haslotsvowels = False\n",
    "    for x in myword.lower():\n",
    "        if x in d:\n",
    "            d[x] += 1\n",
    "    for q in d.values():\n",
    "        if q > 2:\n",
    "            haslotsvowels = True\n",
    "    if haslotsvowels:\n",
    "        count += 1\n",
    "percentage = count/number_of_words  \n",
    "print(count)\n",
    "print(percentage)"
   ]
  },
  {
   "cell_type": "markdown",
   "id": "687c7ed5",
   "metadata": {},
   "source": [
    "# Fog index calculation"
   ]
  },
  {
   "cell_type": "code",
   "execution_count": null,
   "id": "6468941d",
   "metadata": {},
   "outputs": [],
   "source": [
    "FogIndex = 0.4*(AverageSentenceLength + percentage )"
   ]
  },
  {
   "cell_type": "code",
   "execution_count": null,
   "id": "1ad705d8",
   "metadata": {},
   "outputs": [],
   "source": [
    "FogIndex"
   ]
  },
  {
   "cell_type": "markdown",
   "id": "3983d639",
   "metadata": {},
   "source": [
    "# average number of word per sentence"
   ]
  },
  {
   "cell_type": "code",
   "execution_count": null,
   "id": "0eb3162a",
   "metadata": {},
   "outputs": [],
   "source": [
    "sentences = [[]]\n",
    "ends = set(\".?!\")\n",
    "for word in nishant:\n",
    "    if word in ends: sentences.append([])\n",
    "    else: sentences[-1].append(word)\n",
    "\n",
    "if sentences[0]:\n",
    "    if not sentences[-1]: sentences.pop()\n",
    "    print(\"average number of words per sentence:\", sum(len(s) for s in sentences)/len(sentences))"
   ]
  },
  {
   "cell_type": "code",
   "execution_count": null,
   "id": "572ef36e",
   "metadata": {},
   "outputs": [],
   "source": [
    "len(sentences)"
   ]
  },
  {
   "cell_type": "code",
   "execution_count": null,
   "id": "1c97f1d9",
   "metadata": {},
   "outputs": [],
   "source": [
    "sum(len(s) for s in sentences)"
   ]
  },
  {
   "cell_type": "markdown",
   "id": "5421aaa0",
   "metadata": {},
   "source": [
    "# Personal Pronoun"
   ]
  },
  {
   "cell_type": "code",
   "execution_count": null,
   "id": "c40aecf0",
   "metadata": {
    "scrolled": true
   },
   "outputs": [],
   "source": [
    "#personal pronoun in sentences\n",
    "import re\n",
    "\n",
    "pronounRegex = re.compile(r'I|we|my|ours|us',re.I)\n",
    "pronouns = pronounRegex.findall(nishant)\n",
    "print(pronouns)\n",
    "c = 0\n",
    "for i in pronouns:\n",
    "    c+=1\n",
    "print(c)"
   ]
  },
  {
   "cell_type": "markdown",
   "id": "bf846083",
   "metadata": {},
   "source": [
    "# Average word length"
   ]
  },
  {
   "cell_type": "code",
   "execution_count": null,
   "id": "6b66e9e1",
   "metadata": {},
   "outputs": [],
   "source": [
    "#average word length\n",
    "words = nishant.split()\n",
    "average = sum(len(word) for word in words) / len(words)\n",
    "average"
   ]
  },
  {
   "cell_type": "markdown",
   "id": "279039de",
   "metadata": {},
   "source": [
    "# Syllable count"
   ]
  },
  {
   "cell_type": "code",
   "execution_count": null,
   "id": "e70fed7a",
   "metadata": {},
   "outputs": [],
   "source": [
    "def syllable_count(word):\n",
    "    count = 0\n",
    "    vowels = \"aeiouy\"\n",
    "    if word[0] in vowels:\n",
    "        count += 1\n",
    "    for index in range(1, len(word)):\n",
    "        if word[index] in vowels and word[index - 1] not in vowels:\n",
    "            count += 1\n",
    "            if word.endswith(\"e\"):\n",
    "                count -= 1\n",
    "    if count == 0:\n",
    "        count += 1\n",
    "    return count\n",
    "print(syllable_count(nishant))"
   ]
  },
  {
   "cell_type": "code",
   "execution_count": null,
   "id": "989fe92d",
   "metadata": {},
   "outputs": [],
   "source": [
    "import pandas as pd"
   ]
  },
  {
   "cell_type": "code",
   "execution_count": null,
   "id": "9bacaa2c",
   "metadata": {},
   "outputs": [],
   "source": [
    "Data = pd.read_excel(\"C:\\\\Users\\\\NISHANT\\\\OneDrive\\\\Desktop\\\\BlackCoffer\\\\output.xlsx\")"
   ]
  },
  {
   "cell_type": "code",
   "execution_count": null,
   "id": "6e21b41e",
   "metadata": {},
   "outputs": [],
   "source": [
    "pd.options.display.max_rows = 200"
   ]
  },
  {
   "cell_type": "code",
   "execution_count": null,
   "id": "a4a24345",
   "metadata": {},
   "outputs": [],
   "source": [
    "Data"
   ]
  },
  {
   "cell_type": "code",
   "execution_count": null,
   "id": "777351c4",
   "metadata": {},
   "outputs": [],
   "source": [
    "Data_1 = Data.drop(['URL'],axis=1)"
   ]
  },
  {
   "cell_type": "code",
   "execution_count": null,
   "id": "2b5ffe0f",
   "metadata": {},
   "outputs": [],
   "source": [
    "Data_1"
   ]
  },
  {
   "cell_type": "code",
   "execution_count": null,
   "id": "b624e92b",
   "metadata": {},
   "outputs": [],
   "source": [
    "Data_1.to_csv(\"URL_Output.csv\")"
   ]
  },
  {
   "cell_type": "code",
   "execution_count": null,
   "id": "d1efd747",
   "metadata": {},
   "outputs": [],
   "source": []
  }
 ],
 "metadata": {
  "kernelspec": {
   "display_name": "Python 3 (ipykernel)",
   "language": "python",
   "name": "python3"
  },
  "language_info": {
   "codemirror_mode": {
    "name": "ipython",
    "version": 3
   },
   "file_extension": ".py",
   "mimetype": "text/x-python",
   "name": "python",
   "nbconvert_exporter": "python",
   "pygments_lexer": "ipython3",
   "version": "3.10.7"
  }
 },
 "nbformat": 4,
 "nbformat_minor": 5
}
